{
 "cells": [
  {
   "cell_type": "code",
   "execution_count": 1,
   "id": "champion-peace",
   "metadata": {},
   "outputs": [],
   "source": [
    "import pytesseract\n",
    "import cv2\n",
    "import glob\n",
    "from pdf2image import convert_from_path"
   ]
  },
  {
   "cell_type": "code",
   "execution_count": 2,
   "id": "effective-growing",
   "metadata": {},
   "outputs": [],
   "source": [
    "# #https://stackoverflow.com/questions/490195/split-a-multi-page-pdf-file-into-multiple-pdf-files-with-python\n",
    "# from PyPDF2 import PdfFileWriter, PdfFileReader\n",
    "\n",
    "# inputpdf = PdfFileReader(open(\"data/letters.pdf\", \"rb\"))\n",
    "\n",
    "# x = 17\n",
    "# for i in range(inputpdf.numPages):\n",
    "#     if x < 100:\n",
    "#         y = f\"0{x}\"\n",
    "#     else:\n",
    "#         y = f\"{x}\"\n",
    "# #     print (y)\n",
    "    \n",
    "#     output = PdfFileWriter()\n",
    "#     output.addPage(inputpdf.getPage(i))\n",
    "#     with open(f\"data/letter_pages/mgh_page_{y}.pdf\", \"wb\") as outputStream:\n",
    "#         output.write(outputStream)\n",
    "#     x=x+1"
   ]
  },
  {
   "cell_type": "code",
   "execution_count": 58,
   "id": "laughing-google",
   "metadata": {},
   "outputs": [],
   "source": [
    "adobe_files = glob.glob(\"data/adobe_images/*.jpg\")"
   ]
  },
  {
   "cell_type": "code",
   "execution_count": 75,
   "id": "indian-hollow",
   "metadata": {},
   "outputs": [],
   "source": [
    "i=18\n",
    "for file in adobe_files:\n",
    "    if i < 100:\n",
    "        new_i = f\"0{i}\"\n",
    "    else:\n",
    "        new_i = f\"{i}\"\n",
    "    image = cv2.imread(file)\n",
    "    gray = cv2.cvtColor(image, cv2.COLOR_BGR2GRAY)\n",
    "    blur = cv2.GaussianBlur(gray, (7,7), 0)\n",
    "    thresh = cv2.threshold(blur, 0, 255, cv2.THRESH_BINARY_INV + cv2.THRESH_OTSU)[1]\n",
    "    \n",
    "    kernal = cv2.getStructuringElement(cv2.MORPH_RECT, (3, 500))\n",
    "    dilate = cv2.dilate(thresh, kernal, iterations=1)\n",
    "    \n",
    "#     cv2.imwrite(\"temp/sample.jpg\", dilate)\n",
    "    cnts = cv2.findContours(dilate, cv2.RETR_EXTERNAL, cv2.CHAIN_APPROX_SIMPLE)\n",
    "    cnts = cnts[0] if len(cnts) == 2 else cnts[1]\n",
    "    cnts = sorted(cnts, key=lambda x: cv2.boundingRect(x)[1])\n",
    "    main_roi = \"\"\n",
    "    for c in cnts:\n",
    "        x, y, w, h = cv2.boundingRect(c)\n",
    " \n",
    "        if w < 50 and h > 800:\n",
    "            roi = image[y:y+h, x:x+w]\n",
    "#             cv2.rectangle(image, (x, y), (x+w, y+h), (36,255,12), 2)\n",
    "            main_roi = x, w\n",
    "    if main_roi != \"\":\n",
    "        if i % 2 == 0:\n",
    "            roi_image = image[0:, 0:main_roi[0]]\n",
    "            cv2.imwrite(f\"data/number_extracted/numbers_{new_i}.jpg\", roi_image)\n",
    "        else:\n",
    "            roi_image = image[0:, main_roi[0]+main_roi[1]:]\n",
    "            cv2.imwrite(f\"data/number_extracted/numbers_{new_i}.jpg\", roi_image)\n",
    "        \n",
    "    if main_roi == \"\":\n",
    "#         cv2.imwrite(f\"temp/exceptions/numbers_{i}.jpg\", roi_image)\n",
    "        print (f\"temp/exceptions/numbers_{new_i}.jpg\")\n",
    "    i=i+1"
   ]
  },
  {
   "cell_type": "code",
   "execution_count": 76,
   "id": "internal-collaboration",
   "metadata": {},
   "outputs": [],
   "source": [
    "number_ex_files = glob.glob(\"data/number_extracted/*.jpg\")"
   ]
  },
  {
   "cell_type": "code",
   "execution_count": 81,
   "id": "transparent-norfolk",
   "metadata": {},
   "outputs": [
    {
     "name": "stdout",
     "output_type": "stream",
     "text": [
      "temp/cnts/cntr23.jpg\n",
      "temp/cnts/cntr24.jpg\n",
      "temp/cnts/cntr40.jpg\n",
      "temp/cnts/cntr64.jpg\n",
      "temp/cnts/cntr69.jpg\n",
      "temp/cnts/cntr133.jpg\n",
      "temp/cnts/cntr146.jpg\n",
      "temp/cnts/cntr161.jpg\n",
      "temp/cnts/cntr194.jpg\n",
      "temp/cnts/cntr248.jpg\n",
      "temp/cnts/cntr269.jpg\n",
      "temp/cnts/cntr294.jpg\n",
      "temp/cnts/cntr385.jpg\n",
      "temp/cnts/cntr450.jpg\n",
      "temp/cnts/cntr454.jpg\n",
      "temp/cnts/cntr462.jpg\n"
     ]
    }
   ],
   "source": [
    "i=18\n",
    "for file in number_ex_files:\n",
    "    if i < 100:\n",
    "        new_i = f\"0{i}\"\n",
    "    else:\n",
    "        new_i = f\"{i}\"\n",
    "    image = cv2.imread(file)\n",
    "    gray = cv2.cvtColor(image, cv2.COLOR_BGR2GRAY)\n",
    "    blur = cv2.GaussianBlur(gray, (7,7), 0)\n",
    "    thresh = cv2.threshold(blur, 0, 255, cv2.THRESH_BINARY_INV + cv2.THRESH_OTSU)[1]\n",
    "    \n",
    "    kernal = cv2.getStructuringElement(cv2.MORPH_RECT, (200, 3))\n",
    "    dilate = cv2.dilate(thresh, kernal, iterations=1)\n",
    "    \n",
    "#     cv2.imwrite(\"temp/sample.jpg\", dilate)\n",
    "    cnts = cv2.findContours(dilate, cv2.RETR_EXTERNAL, cv2.CHAIN_APPROX_SIMPLE)\n",
    "    cnts = cnts[0] if len(cnts) == 2 else cnts[1]\n",
    "    cnts = sorted(cnts, key=lambda x: cv2.boundingRect(x)[1])\n",
    "    main_roi = \"\"\n",
    "    for c in cnts:\n",
    "        x, y, w, h = cv2.boundingRect(c)\n",
    " \n",
    "        if w > 300 and h < 15:\n",
    "            roi = image[y:y+h, x:x+w]\n",
    "#             cv2.rectangle(image, (x, y), (x+w, y+h), (36,255,12), 2)\n",
    "            main_roi = y\n",
    "    \n",
    "    if main_roi != \"\":\n",
    "        roi_image = image[0:main_roi, 0:]\n",
    "        cv2.imwrite(f\"data/images_pages/extracted_{new_i}.jpg\", roi_image)\n",
    "        \n",
    "    else:\n",
    "        print (f\"temp/cnts/cntr{i}.jpg\") \n",
    "        cv2.imwrite(f\"data/images_pages/extracted_{new_i}_none.jpg\", image)\n",
    "    i=i+1\n",
    "        "
   ]
  },
  {
   "cell_type": "code",
   "execution_count": 82,
   "id": "excellent-individual",
   "metadata": {},
   "outputs": [],
   "source": [
    "# extracted_files = glob.glob(\"data/images_pages/*.jpg\")"
   ]
  },
  {
   "cell_type": "code",
   "execution_count": 83,
   "id": "coastal-fellow",
   "metadata": {},
   "outputs": [],
   "source": [
    "# i=18\n",
    "# for file in extracted_files:\n",
    "#     image = cv2.imread(file)\n",
    "#     gray = cv2.cvtColor(image, cv2.COLOR_BGR2GRAY)\n",
    "#     blur = cv2.GaussianBlur(gray, (7,7), 0)\n",
    "#     thresh = cv2.threshold(blur, 0, 255, cv2.THRESH_BINARY_INV + cv2.THRESH_OTSU)[1]\n",
    "    \n",
    "#     kernal = cv2.getStructuringElement(cv2.MORPH_RECT, (3, 200))\n",
    "#     dilate = cv2.dilate(thresh, kernal, iterations=1)\n",
    "    \n",
    "# #     cv2.imwrite(\"temp/sample.jpg\", dilate)\n",
    "#     cnts = cv2.findContours(dilate, cv2.RETR_EXTERNAL, cv2.CHAIN_APPROX_SIMPLE)\n",
    "#     cnts = cnts[0] if len(cnts) == 2 else cnts[1]\n",
    "#     cnts = sorted(cnts, key=lambda x: cv2.boundingRect(x)[1])\n",
    "#     main_roi = \"\"\n",
    "#     for c in cnts:\n",
    "#         x, y, w, h = cv2.boundingRect(c)\n",
    " \n",
    "#         if w < 50 and h > 500:\n",
    "#             roi = image[y:y+h, x:x+w]\n",
    "#             cv2.rectangle(image, (x, y), (x+w, y+h), (36,255,12), 2)\n",
    "#             main_roi = x\n",
    "#     if main_roi != \"\":\n",
    "#         roi_image = image[0:main_roi, 0:]\n",
    "# #         cv2.imwrite(f\"temp/numbers/numbers_{i}.jpg\", roi_image)\n",
    "        \n",
    "#     else:\n",
    "#         cv2.imwrite(f\"temp/exceptions/numbers_{i}.jpg\", roi_image)\n",
    "#         print (f\"temp/exceptions/numbers_{i}.jpg\")\n",
    "#     i=i+1"
   ]
  },
  {
   "cell_type": "code",
   "execution_count": 110,
   "id": "vulnerable-vinyl",
   "metadata": {},
   "outputs": [],
   "source": [
    "image_files = glob.glob(\"data/images_pages/*.jpg\")"
   ]
  },
  {
   "cell_type": "code",
   "execution_count": 112,
   "id": "becoming-directive",
   "metadata": {},
   "outputs": [
    {
     "name": "stdout",
     "output_type": "stream",
     "text": [
      "data/final_images/numbers_064_except.jpg\n",
      "data/final_images/numbers_161_except.jpg\n",
      "data/final_images/numbers_248_except.jpg\n",
      "data/final_images/numbers_385_except.jpg\n"
     ]
    }
   ],
   "source": [
    "i=18\n",
    "for file in image_files:\n",
    "    if i < 100:\n",
    "        new_i = f\"0{i}\"\n",
    "    else:\n",
    "        new_i = f\"{i}\"\n",
    "    image = cv2.imread(file)\n",
    "    gray = cv2.cvtColor(image, cv2.COLOR_BGR2GRAY)\n",
    "    blur = cv2.GaussianBlur(gray, (3,3), 0)\n",
    "    thresh = cv2.threshold(blur, 0, 255, cv2.THRESH_BINARY_INV + cv2.THRESH_OTSU)[1]\n",
    "    \n",
    "    kernal = cv2.getStructuringElement(cv2.MORPH_RECT, (1, 500))\n",
    "    dilate = cv2.dilate(thresh, kernal, iterations=1)\n",
    "    \n",
    "#     cv2.imwrite(\"temp/sample.jpg\", dilate)\n",
    "    cnts = cv2.findContours(dilate, cv2.RETR_EXTERNAL, cv2.CHAIN_APPROX_SIMPLE)\n",
    "    cnts = cnts[0] if len(cnts) == 2 else cnts[1]\n",
    "    cnts = sorted(cnts, key=lambda x: cv2.boundingRect(x)[1])\n",
    "    main_roi = \"\"\n",
    "    for c in cnts:\n",
    "        x, y, w, h = cv2.boundingRect(c)\n",
    " \n",
    "        if w > 150 and h > 500:\n",
    "            roi = image[y:y+h, x:x+w]\n",
    "#             cv2.rectangle(image, (x, y), (x+w, y+h), (36,255,12), 2)\n",
    "            main_roi = x, w\n",
    "    cv2.imwrite(\"temp/final_image.jpg\", image)\n",
    "    if main_roi != \"\":\n",
    "        if i % 2 == 0:\n",
    "            roi_x, roi_w = main_roi\n",
    "            roi_image = image[0:, roi_x:roi_x+roi_w]\n",
    "            cv2.imwrite(f\"data/final_images/numbers_{new_i}.jpg\", roi_image)\n",
    "        \n",
    "        else:\n",
    "            roi_x, roi_w = main_roi\n",
    "            roi_image = image[0:, roi_x:roi_x+roi_w]\n",
    "            cv2.imwrite(f\"data/final_images/numbers_{new_i}.jpg\", roi_image)\n",
    "\n",
    "    if main_roi == \"\":\n",
    "        cv2.imwrite(f\"data/final_images/numbers_{new_i}_except.jpg\", image)\n",
    "        print (f\"data/final_images/numbers_{new_i}_except.jpg\")\n",
    "    i=i+1"
   ]
  },
  {
   "cell_type": "code",
   "execution_count": null,
   "id": "bottom-leave",
   "metadata": {},
   "outputs": [],
   "source": []
  }
 ],
 "metadata": {
  "kernelspec": {
   "display_name": "Python 3",
   "language": "python",
   "name": "python3"
  },
  "language_info": {
   "codemirror_mode": {
    "name": "ipython",
    "version": 3
   },
   "file_extension": ".py",
   "mimetype": "text/x-python",
   "name": "python",
   "nbconvert_exporter": "python",
   "pygments_lexer": "ipython3",
   "version": "3.9.2"
  }
 },
 "nbformat": 4,
 "nbformat_minor": 5
}
